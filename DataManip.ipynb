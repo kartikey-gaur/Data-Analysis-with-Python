{
 "cells": [
  {
   "cell_type": "code",
   "execution_count": 1,
   "id": "56e9d737",
   "metadata": {},
   "outputs": [
    {
     "data": {
      "text/html": [
       "<div>\n",
       "<style scoped>\n",
       "    .dataframe tbody tr th:only-of-type {\n",
       "        vertical-align: middle;\n",
       "    }\n",
       "\n",
       "    .dataframe tbody tr th {\n",
       "        vertical-align: top;\n",
       "    }\n",
       "\n",
       "    .dataframe thead th {\n",
       "        text-align: right;\n",
       "    }\n",
       "</style>\n",
       "<table border=\"1\" class=\"dataframe\">\n",
       "  <thead>\n",
       "    <tr style=\"text-align: right;\">\n",
       "      <th></th>\n",
       "      <th>Date</th>\n",
       "      <th>Category</th>\n",
       "      <th>Value</th>\n",
       "      <th>Product</th>\n",
       "      <th>Sales</th>\n",
       "      <th>Region</th>\n",
       "    </tr>\n",
       "  </thead>\n",
       "  <tbody>\n",
       "    <tr>\n",
       "      <th>0</th>\n",
       "      <td>2023-01-01</td>\n",
       "      <td>A</td>\n",
       "      <td>28.0</td>\n",
       "      <td>Product1</td>\n",
       "      <td>754.0</td>\n",
       "      <td>East</td>\n",
       "    </tr>\n",
       "    <tr>\n",
       "      <th>1</th>\n",
       "      <td>2023-01-02</td>\n",
       "      <td>B</td>\n",
       "      <td>39.0</td>\n",
       "      <td>Product3</td>\n",
       "      <td>110.0</td>\n",
       "      <td>North</td>\n",
       "    </tr>\n",
       "    <tr>\n",
       "      <th>2</th>\n",
       "      <td>2023-01-03</td>\n",
       "      <td>C</td>\n",
       "      <td>32.0</td>\n",
       "      <td>Product2</td>\n",
       "      <td>398.0</td>\n",
       "      <td>East</td>\n",
       "    </tr>\n",
       "    <tr>\n",
       "      <th>3</th>\n",
       "      <td>2023-01-04</td>\n",
       "      <td>B</td>\n",
       "      <td>8.0</td>\n",
       "      <td>Product1</td>\n",
       "      <td>522.0</td>\n",
       "      <td>East</td>\n",
       "    </tr>\n",
       "    <tr>\n",
       "      <th>4</th>\n",
       "      <td>2023-01-05</td>\n",
       "      <td>B</td>\n",
       "      <td>26.0</td>\n",
       "      <td>Product3</td>\n",
       "      <td>869.0</td>\n",
       "      <td>North</td>\n",
       "    </tr>\n",
       "    <tr>\n",
       "      <th>5</th>\n",
       "      <td>2023-01-06</td>\n",
       "      <td>B</td>\n",
       "      <td>54.0</td>\n",
       "      <td>Product3</td>\n",
       "      <td>192.0</td>\n",
       "      <td>West</td>\n",
       "    </tr>\n",
       "  </tbody>\n",
       "</table>\n",
       "</div>"
      ],
      "text/plain": [
       "         Date Category  Value   Product  Sales Region\n",
       "0  2023-01-01        A   28.0  Product1  754.0   East\n",
       "1  2023-01-02        B   39.0  Product3  110.0  North\n",
       "2  2023-01-03        C   32.0  Product2  398.0   East\n",
       "3  2023-01-04        B    8.0  Product1  522.0   East\n",
       "4  2023-01-05        B   26.0  Product3  869.0  North\n",
       "5  2023-01-06        B   54.0  Product3  192.0   West"
      ]
     },
     "execution_count": 1,
     "metadata": {},
     "output_type": "execute_result"
    }
   ],
   "source": [
    "#Data Manipulation from NumPy and Pandas\n",
    "import pandas as pd\n",
    "df= pd.read_csv('data.csv')\n",
    "df.head(6)"
   ]
  },
  {
   "cell_type": "code",
   "execution_count": null,
   "id": "88f68ec5",
   "metadata": {},
   "outputs": [],
   "source": [
    "#Handling missing values in data using Pandas:\n",
    "df.isnull() #=>this returns false if no missing values else true\n",
    "df.isnull().any(axis=1) #=>this just gives a return value of the row\n"
   ]
  },
  {
   "cell_type": "code",
   "execution_count": null,
   "id": "18bfda47",
   "metadata": {},
   "outputs": [],
   "source": [
    "df.isnull().any()\n",
    "#to find the number of missing values in a vertical, we use sum\n",
    "#df.isnull().sum(), =>this tells how many values are missing in vertical\n",
    "\n",
    "#we should fill these empty values, we may fill it with mean or 0\n",
    "#or depending on circumstances\n",
    "#to say, we want to fill the missing values with mean, then we can \n",
    "#make a new column absed on the prev values,\n",
    "#for eg\n",
    "df['All-Sales']= df['Sales'].fillna(df['Sales'].mean())\n",
    "#what this will do is, fill the NaN values with the mean of existig values\n",
    "#and then fill the NaN values with this mean, while all the available\n",
    "#values will be filled with the same rpev values\n",
    "df\n"
   ]
  },
  {
   "cell_type": "code",
   "execution_count": null,
   "id": "73e69ec0",
   "metadata": {},
   "outputs": [],
   "source": [
    "#to make a new columns based on some modifications on the previous value\n",
    "#just use the following syntax\n",
    "\n",
    "#df['new-col-name'] = df['col-to-use'].operations here on\n",
    "#if there are some empty cells in the col-to-use then fill them first and\n",
    "#then apply the operations further\n",
    "#df['new-col-name'] = df['col-to-use'].fillna(df['col-to-use'].mean()).ops\n",
    "\n",
    "#to apply a certain fucntion/op to a specific col\n",
    "#df['new-col-name'] = df['col-to-use'].apply(func-name/lambda x: modify)"
   ]
  },
  {
   "cell_type": "code",
   "execution_count": null,
   "id": "e4caf69c",
   "metadata": {},
   "outputs": [],
   "source": [
    "#Data aggregating and Grouping\n",
    "# we can calculate specifics based on products or some other parametre\n",
    "#we can also do multiple functios in one command using an aggregator func\n",
    "#this will provide us with multiple data points or vars which gives\n",
    "#us info about what is going on based on certain measures"
   ]
  },
  {
   "cell_type": "code",
   "execution_count": null,
   "id": "f512d0a3",
   "metadata": {},
   "outputs": [
    {
     "data": {
      "text/html": [
       "<div>\n",
       "<style scoped>\n",
       "    .dataframe tbody tr th:only-of-type {\n",
       "        vertical-align: middle;\n",
       "    }\n",
       "\n",
       "    .dataframe tbody tr th {\n",
       "        vertical-align: top;\n",
       "    }\n",
       "\n",
       "    .dataframe thead th {\n",
       "        text-align: right;\n",
       "    }\n",
       "</style>\n",
       "<table border=\"1\" class=\"dataframe\">\n",
       "  <thead>\n",
       "    <tr style=\"text-align: right;\">\n",
       "      <th></th>\n",
       "      <th>key</th>\n",
       "      <th>value1</th>\n",
       "      <th>value2</th>\n",
       "    </tr>\n",
       "  </thead>\n",
       "  <tbody>\n",
       "    <tr>\n",
       "      <th>0</th>\n",
       "      <td>A</td>\n",
       "      <td>1</td>\n",
       "      <td>4</td>\n",
       "    </tr>\n",
       "    <tr>\n",
       "      <th>1</th>\n",
       "      <td>B</td>\n",
       "      <td>2</td>\n",
       "      <td>5</td>\n",
       "    </tr>\n",
       "  </tbody>\n",
       "</table>\n",
       "</div>"
      ],
      "text/plain": [
       "  key  value1  value2\n",
       "0   A       1       4\n",
       "1   B       2       5"
      ]
     },
     "execution_count": 10,
     "metadata": {},
     "output_type": "execute_result"
    }
   ],
   "source": [
    "#Merging and Joining data frames\n",
    "df1 = pd.DataFrame({'key': ['A', 'B', 'C'], 'value1': [1, 2, 3]})\n",
    "df2 = pd.DataFrame({'key': ['A', 'B', 'D'], 'value2': [4, 5, 6]})\n",
    "#merging the data frames\n",
    "#we can do it based on keys or other aprametres if any present\n",
    "dfn= pd.merge(df1, df2, on= \"key\", how=\"inner\")\n",
    "#this tells us how inner gives us intersection of data frames and gives\n",
    "#the intersection of these data\n",
    "dfn"
   ]
  }
 ],
 "metadata": {
  "kernelspec": {
   "display_name": "venv",
   "language": "python",
   "name": "python3"
  },
  "language_info": {
   "codemirror_mode": {
    "name": "ipython",
    "version": 3
   },
   "file_extension": ".py",
   "mimetype": "text/x-python",
   "name": "python",
   "nbconvert_exporter": "python",
   "pygments_lexer": "ipython3",
   "version": "3.13.5"
  }
 },
 "nbformat": 4,
 "nbformat_minor": 5
}
