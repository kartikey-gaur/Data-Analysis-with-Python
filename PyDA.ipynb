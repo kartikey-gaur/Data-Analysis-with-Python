{
 "cells": [
  {
   "cell_type": "code",
   "execution_count": null,
   "id": "3cf65ce1",
   "metadata": {},
   "outputs": [],
   "source": [
    "# Numpy fro Data Analysis\n",
    "#command to install numpy in Jupyter Notebook\n",
    "!pip install numpy\n"
   ]
  },
  {
   "cell_type": "code",
   "execution_count": null,
   "id": "ec1a326b",
   "metadata": {},
   "outputs": [
    {
     "name": "stdout",
     "output_type": "stream",
     "text": [
      "[1 2 3 4]\n",
      "<class 'numpy.ndarray'>\n",
      "(4,)\n",
      "[[1 2 3 4 5]\n",
      " [2 3 4 5 6]]\n",
      "(2, 5)\n"
     ]
    }
   ],
   "source": [
    "import numpy as np\n",
    "#create arrays using numpy\n",
    "#create a 1D array:\n",
    "#write simply np.array(arg) =>this arg can be list, tuple, etc\n",
    "arr1 = np.array([1,2,3,4])\n",
    "print(arr1)\n",
    "print(type(arr1))\n",
    "print(arr1.shape) #for 1D array =>(size,)\n",
    "\n",
    "#create a 2D array by reshaping:\n",
    "arr1.reshape(1,4) #=> this converts to a 2D array with 1 row-5 cols\n",
    "#general syntax: reshape(x,y) for x rows and y cols\n",
    "\n",
    "#creating a 2D array using np is possible by using nested lists(2d Lists)\n",
    "arr2 = np.array([[1,2,3,4,5], [2,3,4,5,6]])\n",
    "print(arr2)\n",
    "print(arr2.shape)\n",
    "#Nd arrays in pythno are always rectangles or cuboidal"
   ]
  },
  {
   "cell_type": "code",
   "execution_count": 9,
   "id": "b26916e7",
   "metadata": {},
   "outputs": [
    {
     "name": "stdout",
     "output_type": "stream",
     "text": [
      "[0 2 4 6 8]\n"
     ]
    }
   ],
   "source": [
    "#Building arrays using inbuilt functions\n",
    "#this makes the array from 0 to 10 based on differences of 2\n",
    "#syntax for arange: np.arange(start, end, common_diff)\n",
    "\n",
    "x = np.arange(0, 10, 2)\n",
    "print(x)"
   ]
  },
  {
   "cell_type": "code",
   "execution_count": null,
   "id": "bb603031",
   "metadata": {},
   "outputs": [
    {
     "name": "stdout",
     "output_type": "stream",
     "text": [
      "(2, 3)\n",
      "int64\n",
      "6\n",
      "8\n"
     ]
    }
   ],
   "source": [
    "#Inbuilt methods to use with arrays in Numpy\n",
    "#np.ones((x,y))=>create array with x row y col and all elems as 1\n",
    "#np.eye(a) => create a identity matrix of x order\n",
    "\n",
    "arr = np.array([[1, 2, 3], [4, 5, 6]])\n",
    "print(arr.shape)\n",
    "print(arr.dtype)\n",
    "print(arr.size)\n",
    "print(arr.itemsize) #gives no of bits of data type used in array\n"
   ]
  },
  {
   "cell_type": "code",
   "execution_count": 13,
   "id": "fa1c2100",
   "metadata": {},
   "outputs": [
    {
     "name": "stdout",
     "output_type": "stream",
     "text": [
      "[11 22 33 44 55]\n",
      "[ -9 -18 -27 -36 -45]\n",
      "[ 10  40  90 160 250]\n",
      "[0.1 0.1 0.1 0.1 0.1]\n"
     ]
    }
   ],
   "source": [
    "#Numpy Vectorized operations\n",
    "R1 = np.array([1, 2, 3, 4, 5])\n",
    "R2 = np.array([10, 20, 30, 40, 50])\n",
    "print(R1 + R2)\n",
    "print(R1 - R2)\n",
    "print(R1 * R2)\n",
    "print(R1 / R2)"
   ]
  },
  {
   "cell_type": "code",
   "execution_count": null,
   "id": "d264a8f0",
   "metadata": {},
   "outputs": [
    {
     "name": "stdout",
     "output_type": "stream",
     "text": [
      "[[ 1  2  3  4]\n",
      " [ 5  6  7  8]\n",
      " [ 9 10 11 12]]\n",
      "1\n",
      "[[ 7  8]\n",
      " [11 12]]\n",
      "[[ 6  7]\n",
      " [10 11]]\n"
     ]
    }
   ],
   "source": [
    "arr = np.array([\n",
    "    [1, 2, 3, 4],\n",
    "    [5, 6, 7, 8],\n",
    "    [9, 10, 11, 12]\n",
    "])\n",
    "\n",
    "#we can modifify the elements of an array directly using array index\n",
    "print(arr)\n",
    "print(arr[0, 0])  # Access single element\n",
    "print(arr[1:, 2:])  # Access subarray\n",
    "print(arr[1:, 1:3])  # Access another subarray\n",
    "\n",
    "#Working of the above code\n",
    "#arr[0,0] =>Accesses the first element of the matrix\n",
    "#arr[1:,2:] =>this accesses from thr first row and the second column\n",
    "#this means whole rectangle beneath the element (1,2) will be selected\n",
    "#arr[1:, 1:3] =>selects a sub rectangle starting from index 1 of row\n",
    "#and index 1 col to index 3 col\n",
    "\n",
    "#selection criteria:\n",
    "#arr[a:b, x:y] => starts from a goes to b-1 and same x to y-1"
   ]
  },
  {
   "cell_type": "code",
   "execution_count": 21,
   "id": "2adc0563",
   "metadata": {},
   "outputs": [
    {
     "name": "stdout",
     "output_type": "stream",
     "text": [
      "[[100   2   3   4]\n",
      " [  5   6 100   8]\n",
      " [  9  10  11  12]]\n"
     ]
    }
   ],
   "source": [
    "arr = np.array([\n",
    "    [1, 2, 3, 4],\n",
    "    [5, 6, 7, 8],\n",
    "    [9, 10, 11, 12]\n",
    "])\n",
    "\n",
    "arr[0, 0] = 100\n",
    "arr[1:2, 2:3] = 100\n",
    "\n",
    "print(arr)"
   ]
  },
  {
   "cell_type": "code",
   "execution_count": 23,
   "id": "901e13fa",
   "metadata": {},
   "outputs": [
    {
     "name": "stdout",
     "output_type": "stream",
     "text": [
      "3.0 1.4142135623730951\n",
      "[-1.41421356 -0.70710678  0.          0.70710678  1.41421356]\n"
     ]
    }
   ],
   "source": [
    "#Statistical Operations and Normalization\n",
    "data = np.array([1, 2, 3, 4, 5])\n",
    "mean = np.mean(data)\n",
    "std = np.std(data)\n",
    "print(mean, std)\n",
    "normalized_data = (data - mean) / std\n",
    "print(normalized_data)"
   ]
  },
  {
   "cell_type": "code",
   "execution_count": null,
   "id": "23ed76c8",
   "metadata": {},
   "outputs": [
    {
     "name": "stdout",
     "output_type": "stream",
     "text": [
      "[False False False False False  True  True  True  True  True]\n",
      "[ 6  7  8  9 10]\n",
      "[5 6 7 8]\n"
     ]
    }
   ],
   "source": [
    "#Logical Operations\n",
    "data = np.array([1, 2, 3, 4, 5, 6, 7, 8, 9, 10])\n",
    "print(data > 5) #returns a boolean\n",
    "print(data[data > 5])\n",
    "print(data[(data >= 5) & (data <= 8)])"
   ]
  }
 ],
 "metadata": {
  "kernelspec": {
   "display_name": "venv",
   "language": "python",
   "name": "python3"
  },
  "language_info": {
   "codemirror_mode": {
    "name": "ipython",
    "version": 3
   },
   "file_extension": ".py",
   "mimetype": "text/x-python",
   "name": "python",
   "nbconvert_exporter": "python",
   "pygments_lexer": "ipython3",
   "version": "3.13.5"
  }
 },
 "nbformat": 4,
 "nbformat_minor": 5
}
