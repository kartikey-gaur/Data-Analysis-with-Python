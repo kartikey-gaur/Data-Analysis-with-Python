{
 "cells": [
  {
   "cell_type": "code",
   "execution_count": null,
   "id": "3cf65ce1",
   "metadata": {},
   "outputs": [],
   "source": [
    "# Numpy fro Data Analysis\n",
    "#command to install numpy in Jupyter Notebook\n",
    "!pip install numpy\n"
   ]
  },
  {
   "cell_type": "code",
   "execution_count": null,
   "id": "ec1a326b",
   "metadata": {},
   "outputs": [
    {
     "name": "stdout",
     "output_type": "stream",
     "text": [
      "[1 2 3 4]\n",
      "<class 'numpy.ndarray'>\n",
      "(4,)\n",
      "[1 2 3 4]\n",
      "[[1 2 3 4 5]\n",
      " [2 3 4 5 6]]\n",
      "(2, 5)\n"
     ]
    }
   ],
   "source": [
    "import numpy as np\n",
    "#create arrays using numpy\n",
    "#create a 1D array:\n",
    "#write simply np.array(arg) =>this arg can be list, tuple, etc\n",
    "arr1 = np.array([1,2,3,4])\n",
    "print(arr1)\n",
    "print(type(arr1))\n",
    "print(arr1.shape) #for 1D array =>(size,)\n",
    "\n",
    "#create a 2D array by reshaping:\n",
    "arr1.reshape(1,4) #=> this converts to a 2D array with 1 row-4 cols\n",
    "print(arr1)\n",
    "#general syntax: reshape(x,y) for x rows and y cols\n",
    "\n",
    "#creating a 2D array using np is possible by using nested lists(2d Lists)\n",
    "arr2 = np.array([[1,2,3,4,5], [2,3,4,5,6]])\n",
    "print(arr2)\n",
    "print(arr2.shape)\n",
    "#Nd arrays in pythno are always rectangles or cuboidal"
   ]
  },
  {
   "cell_type": "code",
   "execution_count": 9,
   "id": "b26916e7",
   "metadata": {},
   "outputs": [
    {
     "name": "stdout",
     "output_type": "stream",
     "text": [
      "[0 2 4 6 8]\n"
     ]
    }
   ],
   "source": [
    "#Building arrays using inbuilt functions\n",
    "#this makes the array from 0 to 10 based on differences of 2\n",
    "#syntax for arange: np.arange(start, end, common_diff)\n",
    "\n",
    "x = np.arange(0, 10, 2)\n",
    "print(x)"
   ]
  },
  {
   "cell_type": "code",
   "execution_count": null,
   "id": "bb603031",
   "metadata": {},
   "outputs": [
    {
     "name": "stdout",
     "output_type": "stream",
     "text": [
      "(2, 3)\n",
      "int64\n",
      "6\n",
      "8\n"
     ]
    }
   ],
   "source": [
    "#Inbuilt methods to use with arrays in Numpy\n",
    "#np.ones((x,y))=>create array with x row y col and all elems as 1\n",
    "#np.eye(a) => create a identity matrix of x order\n",
    "\n",
    "arr = np.array([[1, 2, 3], [4, 5, 6]])\n",
    "print(arr.shape)\n",
    "print(arr.dtype)\n",
    "print(arr.size)\n",
    "print(arr.itemsize) #gives no of bits of data type used in array\n"
   ]
  },
  {
   "cell_type": "code",
   "execution_count": 13,
   "id": "fa1c2100",
   "metadata": {},
   "outputs": [
    {
     "name": "stdout",
     "output_type": "stream",
     "text": [
      "[11 22 33 44 55]\n",
      "[ -9 -18 -27 -36 -45]\n",
      "[ 10  40  90 160 250]\n",
      "[0.1 0.1 0.1 0.1 0.1]\n"
     ]
    }
   ],
   "source": [
    "#Numpy Vectorized operations\n",
    "R1 = np.array([1, 2, 3, 4, 5])\n",
    "R2 = np.array([10, 20, 30, 40, 50])\n",
    "print(R1 + R2)\n",
    "print(R1 - R2)\n",
    "print(R1 * R2)\n",
    "print(R1 / R2)"
   ]
  },
  {
   "cell_type": "code",
   "execution_count": null,
   "id": "d264a8f0",
   "metadata": {},
   "outputs": [
    {
     "name": "stdout",
     "output_type": "stream",
     "text": [
      "[[ 1  2  3  4]\n",
      " [ 5  6  7  8]\n",
      " [ 9 10 11 12]]\n",
      "1\n",
      "[[ 7  8]\n",
      " [11 12]]\n",
      "[[ 6  7]\n",
      " [10 11]]\n"
     ]
    }
   ],
   "source": [
    "arr = np.array([\n",
    "    [1, 2, 3, 4],\n",
    "    [5, 6, 7, 8],\n",
    "    [9, 10, 11, 12]\n",
    "])\n",
    "\n",
    "#we can modifify the elements of an array directly using array index\n",
    "print(arr)\n",
    "print(arr[0, 0])  # Access single element\n",
    "print(arr[1:, 2:])  # Access subarray\n",
    "print(arr[1:, 1:3])  # Access another subarray\n",
    "\n",
    "#Working of the above code\n",
    "#arr[0,0] =>Accesses the first element of the matrix\n",
    "#arr[1:,2:] =>this accesses from thr first row and the second column\n",
    "#this means whole rectangle beneath the element (1,2) will be selected\n",
    "#arr[1:, 1:3] =>selects a sub rectangle starting from index 1 of row\n",
    "#and index 1 col to index 3 col\n",
    "\n",
    "#selection criteria:\n",
    "#arr[a:b, x:y] => starts from a goes to b-1 and same x to y-1\n",
    "#arr[, x:y] => starts from x to y-1\n",
    "#arr[a:b,] => starts from a goes to b-1"
   ]
  },
  {
   "cell_type": "code",
   "execution_count": 8,
   "id": "2adc0563",
   "metadata": {},
   "outputs": [
    {
     "name": "stdout",
     "output_type": "stream",
     "text": [
      "[[  1 100   3   4]\n",
      " [  5   6 100   8]\n",
      " [  9  10  11  12]]\n"
     ]
    }
   ],
   "source": [
    "arr = np.array([\n",
    "    [1, 2, 3, 4],\n",
    "    [5, 6, 7, 8],\n",
    "    [9, 10, 11, 12]\n",
    "])\n",
    "arr[0][1]= 100\n",
    "arr[1:2, 2:3] = 100\n",
    "\n",
    "print(arr)"
   ]
  },
  {
   "cell_type": "code",
   "execution_count": 23,
   "id": "901e13fa",
   "metadata": {},
   "outputs": [
    {
     "name": "stdout",
     "output_type": "stream",
     "text": [
      "3.0 1.4142135623730951\n",
      "[-1.41421356 -0.70710678  0.          0.70710678  1.41421356]\n"
     ]
    }
   ],
   "source": [
    "#Statistical Operations and Normalization\n",
    "data = np.array([1, 2, 3, 4, 5])\n",
    "mean = np.mean(data)\n",
    "std = np.std(data)\n",
    "print(mean, std)\n",
    "normalized_data = (data - mean) / std\n",
    "print(normalized_data)"
   ]
  },
  {
   "cell_type": "code",
   "execution_count": 10,
   "id": "23ed76c8",
   "metadata": {},
   "outputs": [
    {
     "name": "stdout",
     "output_type": "stream",
     "text": [
      "[False False False False False  True  True  True  True  True]\n",
      "[ 6  7  8  9 10]\n",
      "[5 6 7 8]\n"
     ]
    }
   ],
   "source": [
    "#Logical Operations\n",
    "data = np.array([1, 2, 3, 4, 5, 6, 7, 8, 9, 10])\n",
    "print(data > 5) #returns a boolean\n",
    "print(data[data > 5]) #return the element satisfying the condition\n",
    "print(data[(data >= 5) & (data <= 8)])"
   ]
  },
  {
   "cell_type": "code",
   "execution_count": 3,
   "id": "545098fc",
   "metadata": {},
   "outputs": [
    {
     "name": "stdout",
     "output_type": "stream",
     "text": [
      "a    1\n",
      "b    2\n",
      "c    3\n",
      "dtype: int64\n",
      "    name  age       city\n",
      "0  Krish   32  Bangalore\n",
      "1   John   34  Bangalore\n",
      "2   Jack   32  Bangalore\n"
     ]
    }
   ],
   "source": [
    "#Pandas- Data Frames and Series\n",
    "#a data manipulation library\n",
    "#series and data frames are two basic data structures of this library\n",
    "#A Series is a one-dimensional array-like object that can hold any data\n",
    "#A DataFrame is a two-dimensional, size-mutable and potentially\n",
    "#heterogeneous tabular data structure with labeled axes.\n",
    "#A dataframe is a like table or excel with named axes\n",
    "#Series has only one data frame\n",
    "#Data frame can have multiple columns\n",
    "#!pip install pandas\n",
    "import pandas as pd\n",
    "\n",
    "data = [1, 2, 3, 4, 5]\n",
    "series = pd.Series(data)\n",
    "#print(series)\n",
    "\n",
    "\n",
    "#series from a dictionary\n",
    "data = {'a': 1, 'b': 2, 'c': 3}\n",
    "series_dict = pd.Series(data)\n",
    "print(series_dict)\n",
    "\n",
    "#DataFrame via a dictionary\n",
    "data = {\n",
    "    'name': ['Krish', 'John', 'Jack'],\n",
    "    'age': [25, 30, 45],\n",
    "    'city': ['Bangalore', 'New York', 'Florida']\n",
    "}\n",
    "#df = pd.DataFrame(data)\n",
    "#print(df)\n",
    "\n",
    "data = [\n",
    "    {'name': 'Krish', 'age': 32, 'city': 'Bangalore'},\n",
    "    {'name': 'John', 'age': 34, 'city': 'Bangalore'},\n",
    "    {'name': 'Jack', 'age': 32, 'city': 'Bangalore'}\n",
    "]\n",
    "df = pd.DataFrame(data)\n",
    "print(df)\n"
   ]
  },
  {
   "cell_type": "code",
   "execution_count": null,
   "id": "a553502b",
   "metadata": {},
   "outputs": [
    {
     "data": {
      "text/html": [
       "<div>\n",
       "<style scoped>\n",
       "    .dataframe tbody tr th:only-of-type {\n",
       "        vertical-align: middle;\n",
       "    }\n",
       "\n",
       "    .dataframe tbody tr th {\n",
       "        vertical-align: top;\n",
       "    }\n",
       "\n",
       "    .dataframe thead th {\n",
       "        text-align: right;\n",
       "    }\n",
       "</style>\n",
       "<table border=\"1\" class=\"dataframe\">\n",
       "  <thead>\n",
       "    <tr style=\"text-align: right;\">\n",
       "      <th></th>\n",
       "      <th>Date</th>\n",
       "      <th>Category</th>\n",
       "      <th>Value</th>\n",
       "      <th>Product</th>\n",
       "      <th>Sales</th>\n",
       "      <th>Region</th>\n",
       "    </tr>\n",
       "  </thead>\n",
       "  <tbody>\n",
       "    <tr>\n",
       "      <th>45</th>\n",
       "      <td>2023-02-15</td>\n",
       "      <td>B</td>\n",
       "      <td>99.0</td>\n",
       "      <td>Product2</td>\n",
       "      <td>599.0</td>\n",
       "      <td>West</td>\n",
       "    </tr>\n",
       "    <tr>\n",
       "      <th>46</th>\n",
       "      <td>2023-02-16</td>\n",
       "      <td>B</td>\n",
       "      <td>6.0</td>\n",
       "      <td>Product1</td>\n",
       "      <td>938.0</td>\n",
       "      <td>South</td>\n",
       "    </tr>\n",
       "    <tr>\n",
       "      <th>47</th>\n",
       "      <td>2023-02-17</td>\n",
       "      <td>B</td>\n",
       "      <td>69.0</td>\n",
       "      <td>Product3</td>\n",
       "      <td>143.0</td>\n",
       "      <td>West</td>\n",
       "    </tr>\n",
       "    <tr>\n",
       "      <th>48</th>\n",
       "      <td>2023-02-18</td>\n",
       "      <td>C</td>\n",
       "      <td>65.0</td>\n",
       "      <td>Product3</td>\n",
       "      <td>182.0</td>\n",
       "      <td>North</td>\n",
       "    </tr>\n",
       "    <tr>\n",
       "      <th>49</th>\n",
       "      <td>2023-02-19</td>\n",
       "      <td>C</td>\n",
       "      <td>11.0</td>\n",
       "      <td>Product3</td>\n",
       "      <td>708.0</td>\n",
       "      <td>North</td>\n",
       "    </tr>\n",
       "  </tbody>\n",
       "</table>\n",
       "</div>"
      ],
      "text/plain": [
       "          Date Category  Value   Product  Sales Region\n",
       "45  2023-02-15        B   99.0  Product2  599.0   West\n",
       "46  2023-02-16        B    6.0  Product1  938.0  South\n",
       "47  2023-02-17        B   69.0  Product3  143.0   West\n",
       "48  2023-02-18        C   65.0  Product3  182.0  North\n",
       "49  2023-02-19        C   11.0  Product3  708.0  North"
      ]
     },
     "execution_count": 11,
     "metadata": {},
     "output_type": "execute_result"
    }
   ],
   "source": [
    "df = pd.read_csv('data.csv')\n",
    "df.tail(5) \n",
    "# df.tail() =>shows the number of records from the bottom\n",
    "# df.head() =>shows the number of records from the top"
   ]
  },
  {
   "cell_type": "code",
   "execution_count": 4,
   "id": "837da228",
   "metadata": {},
   "outputs": [
    {
     "data": {
      "text/plain": [
       "np.int64(34)"
      ]
     },
     "execution_count": 4,
     "metadata": {},
     "output_type": "execute_result"
    }
   ],
   "source": [
    "data = [\n",
    "    {'name': 'Krish', 'age': 32, 'city': 'Bangalore'},\n",
    "    {'name': 'John', 'age': 34, 'city': 'Bangalore'},\n",
    "    {'name': 'Jack', 'age': 32, 'city': 'JMD'}\n",
    "]\n",
    "df = pd.DataFrame(data)\n",
    "#print(df)\n",
    "#one column of data frame is a series, so in other words\n",
    "#data frame is a collection of series(cols)\n",
    "\n",
    "#to get one col: df['col header]\n",
    "#to get one row: df.iloc[i] = >this give row of index i\n",
    "#to get a certain position: df.loc[i][j] => certain element at (i,j)\n",
    "#to get a certain position: df.iloc[i][j] => certain element at (i,j)\n",
    "#df.loc[2][2]\n",
    "#df.iloc[2][1]\n",
    "\n",
    "df.at[1, 'age']\n",
    "#to get a specific valye use at \n",
    "#df.at[index, 'col_name'] =>only uses row index\n",
    "#df.iat[row_index, col_index] =>gives element at the index\n",
    "#df.iat uses both col and row index"
   ]
  },
  {
   "cell_type": "code",
   "execution_count": null,
   "id": "8d63398d",
   "metadata": {},
   "outputs": [
    {
     "data": {
      "text/html": [
       "<div>\n",
       "<style scoped>\n",
       "    .dataframe tbody tr th:only-of-type {\n",
       "        vertical-align: middle;\n",
       "    }\n",
       "\n",
       "    .dataframe tbody tr th {\n",
       "        vertical-align: top;\n",
       "    }\n",
       "\n",
       "    .dataframe thead th {\n",
       "        text-align: right;\n",
       "    }\n",
       "</style>\n",
       "<table border=\"1\" class=\"dataframe\">\n",
       "  <thead>\n",
       "    <tr style=\"text-align: right;\">\n",
       "      <th></th>\n",
       "      <th>name</th>\n",
       "      <th>age</th>\n",
       "      <th>city</th>\n",
       "      <th>salary</th>\n",
       "    </tr>\n",
       "  </thead>\n",
       "  <tbody>\n",
       "    <tr>\n",
       "      <th>0</th>\n",
       "      <td>Krish</td>\n",
       "      <td>32</td>\n",
       "      <td>Bangalore</td>\n",
       "      <td>2000</td>\n",
       "    </tr>\n",
       "    <tr>\n",
       "      <th>1</th>\n",
       "      <td>John</td>\n",
       "      <td>34</td>\n",
       "      <td>Bangalore</td>\n",
       "      <td>3000</td>\n",
       "    </tr>\n",
       "    <tr>\n",
       "      <th>2</th>\n",
       "      <td>Jack</td>\n",
       "      <td>32</td>\n",
       "      <td>JMD</td>\n",
       "      <td>4000</td>\n",
       "    </tr>\n",
       "  </tbody>\n",
       "</table>\n",
       "</div>"
      ],
      "text/plain": [
       "    name  age       city  salary\n",
       "0  Krish   32  Bangalore    2000\n",
       "1   John   34  Bangalore    3000\n",
       "2   Jack   32        JMD    4000"
      ]
     },
     "execution_count": 6,
     "metadata": {},
     "output_type": "execute_result"
    }
   ],
   "source": [
    "#Adding a column in the data frame table:\n",
    "df['salary']= [2000, 3000, 4000] #write the new column in form of list\n",
    "#or a pandas series\n",
    "\n",
    "df\n",
    "\n",
    "#removing a column\n",
    "#drop tells the pandas whether we want to delete a column or row\n",
    "#when axis=1, we delete the column entry row wise, like \n",
    "#salary for 1st row gets delted then the second row and so on\n",
    "\n",
    "#when axis =0, we delete each row entry column wise, like we delete\n",
    "#an entry in the first row adn then move on with second and so on\n",
    "df.drop('salary', axis=1)\n",
    "#always while removing write a second arg axis as 1\n"
   ]
  },
  {
   "cell_type": "code",
   "execution_count": 48,
   "id": "82ed2363",
   "metadata": {},
   "outputs": [
    {
     "data": {
      "text/html": [
       "<div>\n",
       "<style scoped>\n",
       "    .dataframe tbody tr th:only-of-type {\n",
       "        vertical-align: middle;\n",
       "    }\n",
       "\n",
       "    .dataframe tbody tr th {\n",
       "        vertical-align: top;\n",
       "    }\n",
       "\n",
       "    .dataframe thead th {\n",
       "        text-align: right;\n",
       "    }\n",
       "</style>\n",
       "<table border=\"1\" class=\"dataframe\">\n",
       "  <thead>\n",
       "    <tr style=\"text-align: right;\">\n",
       "      <th></th>\n",
       "      <th>name</th>\n",
       "      <th>age</th>\n",
       "      <th>city</th>\n",
       "    </tr>\n",
       "  </thead>\n",
       "  <tbody>\n",
       "    <tr>\n",
       "      <th>0</th>\n",
       "      <td>Krish</td>\n",
       "      <td>32</td>\n",
       "      <td>Bangalore</td>\n",
       "    </tr>\n",
       "    <tr>\n",
       "      <th>1</th>\n",
       "      <td>John</td>\n",
       "      <td>34</td>\n",
       "      <td>Bangalore</td>\n",
       "    </tr>\n",
       "    <tr>\n",
       "      <th>2</th>\n",
       "      <td>Jack</td>\n",
       "      <td>32</td>\n",
       "      <td>JMD</td>\n",
       "    </tr>\n",
       "  </tbody>\n",
       "</table>\n",
       "</div>"
      ],
      "text/plain": [
       "    name  age       city\n",
       "0  Krish   32  Bangalore\n",
       "1   John   34  Bangalore\n",
       "2   Jack   32        JMD"
      ]
     },
     "execution_count": 48,
     "metadata": {},
     "output_type": "execute_result"
    }
   ],
   "source": [
    "df.drop('salary', axis=1, inplace=True)\n",
    "#write inplace for a permanent operation\n",
    "df"
   ]
  },
  {
   "cell_type": "code",
   "execution_count": null,
   "id": "1513bf90",
   "metadata": {},
   "outputs": [
    {
     "data": {
      "text/html": [
       "<div>\n",
       "<style scoped>\n",
       "    .dataframe tbody tr th:only-of-type {\n",
       "        vertical-align: middle;\n",
       "    }\n",
       "\n",
       "    .dataframe tbody tr th {\n",
       "        vertical-align: top;\n",
       "    }\n",
       "\n",
       "    .dataframe thead th {\n",
       "        text-align: right;\n",
       "    }\n",
       "</style>\n",
       "<table border=\"1\" class=\"dataframe\">\n",
       "  <thead>\n",
       "    <tr style=\"text-align: right;\">\n",
       "      <th></th>\n",
       "      <th>name</th>\n",
       "      <th>age</th>\n",
       "      <th>city</th>\n",
       "      <th>salary</th>\n",
       "    </tr>\n",
       "  </thead>\n",
       "  <tbody>\n",
       "    <tr>\n",
       "      <th>1</th>\n",
       "      <td>John</td>\n",
       "      <td>34</td>\n",
       "      <td>Bangalore</td>\n",
       "      <td>3000</td>\n",
       "    </tr>\n",
       "    <tr>\n",
       "      <th>2</th>\n",
       "      <td>Jack</td>\n",
       "      <td>32</td>\n",
       "      <td>JMD</td>\n",
       "      <td>4000</td>\n",
       "    </tr>\n",
       "  </tbody>\n",
       "</table>\n",
       "</div>"
      ],
      "text/plain": [
       "   name  age       city  salary\n",
       "1  John   34  Bangalore    3000\n",
       "2  Jack   32        JMD    4000"
      ]
     },
     "execution_count": 55,
     "metadata": {},
     "output_type": "execute_result"
    }
   ],
   "source": [
    "#we can make cahnges to the whole cols b y:like\n",
    "#df['col_name]= df['col_name] + 1 \n",
    "#this increases all the values of the whole col by 1\n",
    "\n",
    "#to remove rows: we just give row index to the data frame\n",
    "df.drop(0)\n",
    "df\n",
    "#df.drop(0, inplace=True) =>this deletes the row permanently at index 0\n",
    "df"
   ]
  },
  {
   "cell_type": "code",
   "execution_count": null,
   "id": "936cd549",
   "metadata": {},
   "outputs": [],
   "source": [
    "#Using statistical analysis\n",
    "#df.describe() =>gives us tools which have measure to describe/summary\n",
    "#such as measures of central tendency(mean, mode, median)\n"
   ]
  },
  {
   "cell_type": "code",
   "execution_count": 11,
   "id": "17a2c106",
   "metadata": {},
   "outputs": [
    {
     "data": {
      "text/html": [
       "<div>\n",
       "<style scoped>\n",
       "    .dataframe tbody tr th:only-of-type {\n",
       "        vertical-align: middle;\n",
       "    }\n",
       "\n",
       "    .dataframe tbody tr th {\n",
       "        vertical-align: top;\n",
       "    }\n",
       "\n",
       "    .dataframe thead th {\n",
       "        text-align: right;\n",
       "    }\n",
       "</style>\n",
       "<table border=\"1\" class=\"dataframe\">\n",
       "  <thead>\n",
       "    <tr style=\"text-align: right;\">\n",
       "      <th></th>\n",
       "      <th>employee_name</th>\n",
       "      <th>email</th>\n",
       "      <th>job_profile</th>\n",
       "    </tr>\n",
       "  </thead>\n",
       "  <tbody>\n",
       "    <tr>\n",
       "      <th>0</th>\n",
       "      <td>James</td>\n",
       "      <td>james@gmail.com</td>\n",
       "      <td>Senior Developer</td>\n",
       "    </tr>\n",
       "  </tbody>\n",
       "</table>\n",
       "</div>"
      ],
      "text/plain": [
       "  employee_name            email       job_profile\n",
       "0         James  james@gmail.com  Senior Developer"
      ]
     },
     "execution_count": 11,
     "metadata": {},
     "output_type": "execute_result"
    }
   ],
   "source": [
    "#Reading data from sources using Pandas\n",
    "from io import StringIO\n",
    "\n",
    "data = '''{\"employee_name\": [\"James\"], \"email\": [\"james@gmail.com\"], \"job_profile\": [\"Senior Developer\"]}'''\n",
    "df = pd.read_json(StringIO(data))\n",
    "df"
   ]
  }
 ],
 "metadata": {
  "kernelspec": {
   "display_name": "venv",
   "language": "python",
   "name": "python3"
  },
  "language_info": {
   "codemirror_mode": {
    "name": "ipython",
    "version": 3
   },
   "file_extension": ".py",
   "mimetype": "text/x-python",
   "name": "python",
   "nbconvert_exporter": "python",
   "pygments_lexer": "ipython3",
   "version": "3.13.5"
  }
 },
 "nbformat": 4,
 "nbformat_minor": 5
}
