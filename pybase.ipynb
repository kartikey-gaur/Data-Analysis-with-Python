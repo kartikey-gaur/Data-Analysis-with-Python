{
 "cells": [
  {
   "cell_type": "code",
   "execution_count": null,
   "id": "2f0dd7b4",
   "metadata": {},
   "outputs": [],
   "source": [
    "# when we take input, we always get it in strng format\n",
    "# x= input(\"...\") => x is a str\n",
    "#to use x in arithmetic, typecast it to int\n",
    "x= input(\"num\")\n",
    "x= int(x) +1 \n",
    "print(x)\n",
    "# or x= int(input(...))"
   ]
  },
  {
   "cell_type": "code",
   "execution_count": null,
   "id": "cc4be3f8",
   "metadata": {},
   "outputs": [],
   "source": [
    "#Basic Data types\n",
    "#int - 8 bits\n",
    "#float - 16bits\n",
    "#bool: x= bool() => to declare a bool var, we can also use T/F\n",
    "#print(bool()) => gives false\n",
    "\n"
   ]
  },
  {
   "cell_type": "code",
   "execution_count": null,
   "id": "e2023e5d",
   "metadata": {},
   "outputs": [],
   "source": [
    "#operators\n",
    "#the division operator gives a floor value\n",
    "#the floor div operator(//) gives a int value\n",
    "#exponential operator =? a**b => a to the power b => a^b\n",
    "\n",
    "#logical operator\n",
    "#AND, OR, NOT =>and, or, not\n",
    "#print(not x) =>if x was true, false will print and vice versa\n"
   ]
  },
  {
   "cell_type": "code",
   "execution_count": null,
   "id": "39c23064",
   "metadata": {},
   "outputs": [],
   "source": [
    "#Loops:\n",
    "#range(x,y, step): goes from x to y-1, x changes by step to reach y\n",
    "#by default step is 1\n",
    "#runtime for infinite loop execution is 0.0s\n",
    "\n",
    "for i in range(10, 0, -2):\n",
    "    print(i)"
   ]
  },
  {
   "cell_type": "code",
   "execution_count": null,
   "id": "9755a788",
   "metadata": {},
   "outputs": [],
   "source": [
    "#f-string:\n",
    "#to print vars and their values in same statement\n",
    "a=1\n",
    "b=2\n",
    "print(f\"a:{a} and there is b:{b}\")"
   ]
  },
  {
   "cell_type": "code",
   "execution_count": null,
   "id": "90f6a1a7",
   "metadata": {},
   "outputs": [
    {
     "name": "stdout",
     "output_type": "stream",
     "text": [
      "['a', 'e', 'i', 'k', 'k', 'r', 't', 'y']\n"
     ]
    }
   ],
   "source": [
    "#Lists in Python:\n",
    "#to print a certain part of a list: print(list[start index: end index])\n",
    "#this prints the list upto the (end index-1)\n",
    "#last elements of the list: list[-1]\n",
    "#to print something from the right end of the list: lst[-index]\n",
    "#from the right the index starts from -1\n",
    "#to convert a string into a list of characters:\n",
    "#lst[index where we want to add chars of string:]= string\n",
    "#there are many methods and functions related to strings, \n",
    "#use them over and over, to remember them\n",
    "\n",
    "#sort function in the list is based on ASCII values\n",
    "lst= []\n",
    "lst[0:]= 'kartikey'\n",
    "lst.sort()\n",
    "print(lst)\n"
   ]
  }
 ],
 "metadata": {
  "kernelspec": {
   "display_name": ".venv (3.13.5)",
   "language": "python",
   "name": "python3"
  },
  "language_info": {
   "codemirror_mode": {
    "name": "ipython",
    "version": 3
   },
   "file_extension": ".py",
   "mimetype": "text/x-python",
   "name": "python",
   "nbconvert_exporter": "python",
   "pygments_lexer": "ipython3",
   "version": "3.13.5"
  }
 },
 "nbformat": 4,
 "nbformat_minor": 5
}
