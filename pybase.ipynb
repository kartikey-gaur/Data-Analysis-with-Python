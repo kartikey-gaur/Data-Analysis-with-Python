{
 "cells": [
  {
   "cell_type": "code",
   "execution_count": null,
   "id": "2f0dd7b4",
   "metadata": {},
   "outputs": [],
   "source": [
    "# when we take input, we always get it in strng format\n",
    "# x= input(\"...\") => x is a str\n",
    "#to use x in arithmetic, typecast it to int\n",
    "x= input(\"num\")\n",
    "x= int(x) +1 \n",
    "print(x)\n",
    "# or x= int(input(...))"
   ]
  },
  {
   "cell_type": "code",
   "execution_count": null,
   "id": "cc4be3f8",
   "metadata": {},
   "outputs": [],
   "source": [
    "#Basic Data types\n",
    "#int - 8 bits\n",
    "#float - 16bits\n",
    "#bool: x= bool() => to declare a bool var, we can also use T/F\n",
    "#print(bool()) => gives false\n",
    "\n"
   ]
  },
  {
   "cell_type": "code",
   "execution_count": null,
   "id": "e2023e5d",
   "metadata": {},
   "outputs": [],
   "source": [
    "#operators\n",
    "#the division operator gives a floor value\n",
    "#the floor div operator(//) gives a int value\n",
    "#exponential operator =? a**b => a to the power b => a^b\n",
    "\n",
    "#logical operator\n",
    "#AND, OR, NOT =>and, or, not\n",
    "#print(not x) =>if x was true, false will print and vice versa\n"
   ]
  },
  {
   "cell_type": "code",
   "execution_count": null,
   "id": "39c23064",
   "metadata": {},
   "outputs": [],
   "source": [
    "#Loops:\n",
    "#range(x,y, step): goes from x to y-1, x changes by step to reach y\n",
    "#by default step is 1\n",
    "#runtime for infinite loop execution is 0.0s\n",
    "#print() => leaves an entire line of output\n",
    "\n",
    "for i in range(10, 0, -2):\n",
    "    print(i)"
   ]
  },
  {
   "cell_type": "code",
   "execution_count": null,
   "id": "9755a788",
   "metadata": {},
   "outputs": [],
   "source": [
    "#f-string:\n",
    "#to print vars and their values in same statement\n",
    "a=1\n",
    "b=2\n",
    "print(f\"a:{a} and there is b:{b}\")"
   ]
  },
  {
   "cell_type": "code",
   "execution_count": null,
   "id": "90f6a1a7",
   "metadata": {},
   "outputs": [
    {
     "name": "stdout",
     "output_type": "stream",
     "text": [
      "[1, 2, 3, 4]\n",
      "hello\n",
      "[[1, 2, 3, 4], [6, 7, 8, 9]]\n"
     ]
    }
   ],
   "source": [
    "#Lists in Python:\n",
    "#to print a certain part of a list: print(list[start index: end index])\n",
    "#this prints the list upto the (end index-1)\n",
    "#last elements of the list: list[-1]\n",
    "#to print something from the right end of the list: lst[-index]\n",
    "#from the right the index starts from -1\n",
    "#to convert a string into a list of characters:\n",
    "#lst[index where we want to add chars of string:]= string\n",
    "#there are many methods and functions related to strings, \n",
    "#use them over and over, to remember them\n",
    "\n",
    "#sort function in the list is based on ASCII values\n",
    "#enumerate function in py: \n",
    "#when we want to print index as well as char, we use\n",
    "#for i,c in enumerate(list):\n",
    "#   print(i,c)\n",
    "#this code gives us \"i c\" per line\n",
    "\n",
    "#List Comprehension: vvip\n",
    "#[operation iteration] or\n",
    "#[expression for item in iteration if condition]\n",
    "#the if statement is not always needed\n",
    "\n",
    "##Nested list comprehension\n",
    "#[expression for item in iteration for item2 in iteration if condition]\n",
    "#the item1 is first iterated for each item2 and then moves ahead in the \n",
    "#first list\n",
    "\n",
    "lst1 = [1,2,3]\n",
    "lst2= ['a', 'b', 'c']\n",
    "\n",
    "#lst= [x**2 for x in range(10)]\n",
    "#print(lst)\n",
    "\n",
    "lst = [(x, y) for x in lst1 for y in lst2]\n",
    "#print(lst)\n",
    "\n",
    "#Nested lists\n",
    "nested_list = [\n",
    "    [1, 2, 3, 4],\n",
    "    [6, 7, 8, 9],\n",
    "    [1, \"hello\", 3.14, \"see\"]\n",
    "]\n",
    "print(nested_list[0])\n",
    "print(nested_list[2][1])\n",
    "print(nested_list[0:3])\n",
    "\n",
    "\n"
   ]
  },
  {
   "cell_type": "code",
   "execution_count": 62,
   "id": "bba6ce17",
   "metadata": {},
   "outputs": [
    {
     "name": "stdout",
     "output_type": "stream",
     "text": [
      "1 2 3 \n",
      "a b c \n",
      "True False \n"
     ]
    }
   ],
   "source": [
    "#Tuple:\n",
    "#a tuple is a immutable data structure, which cannot be modified\n",
    "my_list = [1, 2, 3, 4, 5]\n",
    "#print(my_list)\n",
    "my_list= tuple(my_list)\n",
    "#print(my_list.count(1))\n",
    "#print(my_list.index(3))\n",
    "\n",
    "#packing and unpacking tuple\n",
    "#packing means nothing but initializing a tuple based on needs\n",
    "#unpacking means we are going to take the data of the tuple\n",
    "#and then store it in individual variables\n",
    "a,b,c,d,e= my_list\n",
    "#print(a,b,c,d,e)\n",
    "\n",
    "#unpacking with star operator(*)\n",
    "numbers = (1, 2, 3, 4, 5, 6)\n",
    "first, second, *middle, last = numbers\n",
    "#print(first) \n",
    "#print(second)\n",
    "#print(middle)\n",
    "#print(last)\n",
    "\n",
    "#iterating over a nested tuple\n",
    "nested_tuple = (\n",
    "    (1, 2, 3),\n",
    "    (\"a\", \"b\", \"c\"),\n",
    "    (True, False)\n",
    ")\n",
    "for sub_tuple in nested_tuple:\n",
    "    for item in sub_tuple:\n",
    "        print(item, end=\" \") \n",
    "    print()\n",
    "    "
   ]
  },
  {
   "cell_type": "code",
   "execution_count": 70,
   "id": "bc59ff34",
   "metadata": {},
   "outputs": [
    {
     "name": "stdout",
     "output_type": "stream",
     "text": [
      "{1, 2, 3, 4, 5, 6, 7, 8, 9}\n",
      "False\n",
      "{1, 2, 3}\n"
     ]
    }
   ],
   "source": [
    "#Sets in Python: use {} to generate an empty set\n",
    "my_set = set([1, 2, 3, 4, 5, 6,5,7,8,9,8,7])\n",
    "print(my_set)\n",
    "\n",
    "#If you try to remove an element that is not present, \n",
    "#remove() raises a KeyError.add_note\n",
    "#To avoid this, use the discard() method,\n",
    "#which removes the element if present and does nothing otherwise\n",
    "\n",
    "#to check whether an element is present in the set or not, we use in word\n",
    "s=  {1,2,3,4}\n",
    "print(5 in s)\n",
    "\n",
    "#Mathematical operations in set\n",
    "set_one = {1, 2, 3, 4, 5, 6}\n",
    "set_two = {4, 5, 6, 7, 8, 9}\n",
    "\n",
    "#set_two= set_two.union(set_one)\n",
    "#print(set_two)\n",
    "set_one.difference_update(set_two)\n",
    "print(set_one)  # {1, 2, 3}"
   ]
  }
 ],
 "metadata": {
  "kernelspec": {
   "display_name": ".venv (3.13.5)",
   "language": "python",
   "name": "python3"
  },
  "language_info": {
   "codemirror_mode": {
    "name": "ipython",
    "version": 3
   },
   "file_extension": ".py",
   "mimetype": "text/x-python",
   "name": "python",
   "nbconvert_exporter": "python",
   "pygments_lexer": "ipython3",
   "version": "3.13.5"
  }
 },
 "nbformat": 4,
 "nbformat_minor": 5
}
