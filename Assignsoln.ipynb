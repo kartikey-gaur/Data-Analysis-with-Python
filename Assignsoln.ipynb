{
 "cells": [
  {
   "cell_type": "code",
   "execution_count": 2,
   "id": "41fab389",
   "metadata": {},
   "outputs": [],
   "source": [
    "#Numpy assignemnts:\n",
    "\n",
    "import numpy as np\n",
    "import random\n"
   ]
  },
  {
   "cell_type": "code",
   "execution_count": null,
   "id": "e4ae3ae6",
   "metadata": {},
   "outputs": [
    {
     "name": "stdout",
     "output_type": "stream",
     "text": [
      "[[ 6  7  5 17  2]\n",
      " [19  4 20  8 17]\n",
      " [ 1  9  8 14  5]\n",
      " [13 10 17  9 14]\n",
      " [ 8 11 18 10 13]]\n",
      "[[ 6  7  1 17  2]\n",
      " [19  4  1  8 17]\n",
      " [ 1  9  1 14  5]\n",
      " [13 10  1  9 14]\n",
      " [ 8 11  1 10 13]]\n"
     ]
    }
   ],
   "source": [
    "#Asgn-1: 1. (5,5)=>random b/w 1 to 20, then 3rd col get oned\n",
    "# we need to create a 2D array which is empty\n",
    "arr = np.empty((5,5), dtype=int)\n",
    "for i in range(5):\n",
    "    for j in range(5):\n",
    "        arr[i][j] = random.randint(1,20)\n",
    "\n",
    "print(arr)\n",
    "\n",
    "for i in range(5):\n",
    "    arr[i][2]= 1\n",
    "\n",
    "#or we can do numpy slicing in arrays\n",
    "#arr[:,2]= 1 \n",
    "print(arr)\n"
   ]
  },
  {
   "cell_type": "code",
   "execution_count": null,
   "id": "be319f2e",
   "metadata": {},
   "outputs": [
    {
     "name": "stdout",
     "output_type": "stream",
     "text": [
      "4\n",
      "[[ 0  4  9  6]\n",
      " [ 7  0  5  2]\n",
      " [ 8 14  0 10]\n",
      " [ 6 16  7  0]]\n"
     ]
    }
   ],
   "source": [
    "#Asgn-1: 2. (4,4)=>random b/w 1 to 16, then all diag elems\n",
    "#get zeroed\n",
    "\n",
    "arr = np.empty((4,4), dtype=int)\n",
    "print(arr[0].size)\n",
    "for i in range(arr[0].size):\n",
    "    for j in range(arr[0].size):\n",
    "        arr[i][j] = random.randint(1, 16)\n",
    "\n",
    "\n",
    "for i in range(arr[0].size):\n",
    "    arr[i][i]= 0\n",
    "print(arr)\n",
    "\n",
    "#Shorter code :\n",
    "#arr = np.random.randint(1, 17, size=(4, 4))  # values from 1 to 16\n",
    "#np.fill_diagonal(arr, 0)                    # set diagonal to 0\n",
    "#print(arr)"
   ]
  },
  {
   "cell_type": "code",
   "execution_count": null,
   "id": "011cf65d",
   "metadata": {},
   "outputs": [
    {
     "name": "stdout",
     "output_type": "stream",
     "text": [
      "[[25  2 20  4  1 28]\n",
      " [32 14 15 14 30 13]\n",
      " [10 19 25 20 11 32]\n",
      " [32 18 18 36 29 20]\n",
      " [ 7 27  9 19 35  6]\n",
      " [17 12 22 20  2  5]]\n",
      "[[19 25 20]\n",
      " [18 18 36]\n",
      " [27  9 19]]\n"
     ]
    }
   ],
   "source": [
    "#Asgn-2: 1. create arr 6x6 fil rands as 1-36 adn then slice it\n",
    "# from 3 to 5 and 2 to 4 row and col respectively\n",
    "\n",
    "arr = np.random.randint(1, 37, (6,6))\n",
    "print(arr)\n",
    "\n",
    "arr= arr[2:5, 1:4]\n",
    "print(arr)"
   ]
  },
  {
   "cell_type": "code",
   "execution_count": 59,
   "id": "a4bd397c",
   "metadata": {},
   "outputs": [
    {
     "name": "stdout",
     "output_type": "stream",
     "text": [
      "[[10 18 17 22  4]\n",
      " [19 13  2 11  7]\n",
      " [ 6 17 23 21 10]\n",
      " [12 11 24 23  4]\n",
      " [ 5 12 24 16  9]]\n",
      "asnwer\n",
      "[array([10, 18, 17, 22,  4], dtype=int32), [array([ 5, 12, 24, 16,  9], dtype=int32)], [array([19], dtype=int32), array([6], dtype=int32), array([12], dtype=int32)], [array([], dtype=int32), array([], dtype=int32), array([], dtype=int32), array([], dtype=int32)]]\n"
     ]
    }
   ],
   "source": [
    "##Asgn-2: 2. create arr 5x5 fil rands as 1-25 and then slice border\n",
    "arr=  np.random.randint(1,25,(5,5))\n",
    "print(arr)\n",
    "lst = list(arr[0:1,])\n",
    "lst.append(list(arr[arr[0].size-1:,]))\n",
    "lst.append(list(arr[1:arr[0].size-1,0:1]))\n",
    "lst.append(list(arr[1:arr[0].size,arr[0].size-1:arr[0].size-1]))\n",
    "print(\"asnwer\")\n",
    "print(lst)\n",
    "\n",
    "#Shorter version:\n",
    "#import numpy as np\n",
    "#\n",
    "#arr = np.random.randint(1, 25, (5, 5))\n",
    "#print(arr)\n",
    "#\n",
    "#print(type(arr[0]))\n",
    "#top = arr[0].tolist()\n",
    "#bottom = arr[4].tolist()\n",
    "#left = arr[1:4, 0].tolist()\n",
    "#print(type(left))\n",
    "#right = arr[1:4, 4].tolist()\n",
    "#\n",
    "## Combine all border elements into a flat list\n",
    "#border_elements = top + bottom + left + right\n",
    "#\n",
    "#print(\"answer\")\n",
    "#print(border_elements)"
   ]
  },
  {
   "cell_type": "code",
   "execution_count": 64,
   "id": "340b9041",
   "metadata": {},
   "outputs": [
    {
     "name": "stdout",
     "output_type": "stream",
     "text": [
      "[[10  1  2 11]\n",
      " [ 9 12  1  7]\n",
      " [19 17  1 19]]\n",
      "[[17  5  4 10]\n",
      " [ 4 19 16 13]\n",
      " [12  2  5 16]]\n",
      "a: [[27  6  6 21]\n",
      " [13 31 17 20]\n",
      " [31 19  6 35]] \n",
      ", s: [[ -7  -4  -2   1]\n",
      " [  5  -7 -15  -6]\n",
      " [  7  15  -4   3]] \n",
      ", m: [[170   5   8 110]\n",
      " [ 36 228  16  91]\n",
      " [228  34   5 304]] \n",
      ", d: [[0.58823529 0.2        0.5        1.1       ]\n",
      " [2.25       0.63157895 0.0625     0.53846154]\n",
      " [1.58333333 8.5        0.2        1.1875    ]]\n"
     ]
    }
   ],
   "source": [
    "#Asgn-3: 1. create 2 arr 3x4 fil rands as 1-20 and arithmeticate it\n",
    "arr1= np.random.randint(1,20,(3,4))\n",
    "arr2= np.random.randint(1,20,(3,4))\n",
    "print(arr1)\n",
    "print(arr2)\n",
    "a = arr1+arr2\n",
    "s= arr1-arr2\n",
    "m= arr1*arr2\n",
    "d = ((arr1)/(arr2))\n",
    "print(f\"a: {a} \\n, s: {s} \\n, m: {m} \\n, d: {d}\")"
   ]
  },
  {
   "cell_type": "code",
   "execution_count": 79,
   "id": "8b16671b",
   "metadata": {},
   "outputs": [
    {
     "name": "stdout",
     "output_type": "stream",
     "text": [
      "[[11 14  9  7]\n",
      " [16 16  4 12]\n",
      " [12 16 14 11]\n",
      " [14 13  2 16]]\n"
     ]
    },
    {
     "data": {
      "text/plain": [
       "[53, 59, 29, 46]"
      ]
     },
     "execution_count": 79,
     "metadata": {},
     "output_type": "execute_result"
    }
   ],
   "source": [
    "arr2= np.random.randint(1,20,(4,4))\n",
    "print(arr2)\n",
    "lst = list() \n",
    "for i in range(4):\n",
    "    lst = arr2.sum(axis=0).tolist()\n",
    "lst\n",
    "\n",
    "#arr2 = np.random.randint(1, 20, (4, 4))\n",
    "#lst = arr2.sum(axis=1).tolist()\n",
    "#print(lst)"
   ]
  },
  {
   "cell_type": "code",
   "execution_count": 86,
   "id": "081b7184",
   "metadata": {},
   "outputs": [
    {
     "name": "stdout",
     "output_type": "stream",
     "text": [
      "[[17 17 19 11]\n",
      " [ 6 15 14  5]\n",
      " [18 10 16  6]\n",
      " [ 6  8  4  8]]\n",
      "11.25 5.080600358225394 10.5 25.8125\n",
      "[[ 1.13175601  1.13175601  1.52541028 -0.04920678]\n",
      " [-1.03334245  0.73810175  0.54127461 -1.23016958]\n",
      " [ 1.32858314 -0.24603392  0.93492888 -1.03334245]\n",
      " [-1.03334245 -0.63968818 -1.42699671 -0.63968818]]\n"
     ]
    }
   ],
   "source": [
    "arr= np.random.randint(1,20,(4,4))\n",
    "print(arr)\n",
    "mean = arr.mean()\n",
    "dev = arr.std()\n",
    "mode=  np.median(arr)\n",
    "var = arr.var()\n",
    "print(mean, dev, mode, var)\n",
    "\n",
    "narr = (arr-mean)/dev\n",
    "print(narr)"
   ]
  },
  {
   "cell_type": "code",
   "execution_count": 22,
   "id": "3bb55e87",
   "metadata": {},
   "outputs": [
    {
     "name": "stdout",
     "output_type": "stream",
     "text": [
      "[[4 9 5]\n",
      " [5 4 2]\n",
      " [9 8 5]]\n",
      "[7 2 7]\n"
     ]
    },
    {
     "data": {
      "text/plain": [
       "array([[11, 11, 12],\n",
       "       [12,  6,  9],\n",
       "       [16, 10, 12]], dtype=int32)"
      ]
     },
     "execution_count": 22,
     "metadata": {},
     "output_type": "execute_result"
    }
   ],
   "source": [
    "arr = np.random.randint(1, 10, (3,3))\n",
    "print(arr)\n",
    "arr1= np.random.randint(1,10,(3,))\n",
    "print(arr1)\n",
    "ar2 =arr + arr1\n",
    "ar2"
   ]
  },
  {
   "cell_type": "code",
   "execution_count": 25,
   "id": "0ee18320",
   "metadata": {},
   "outputs": [
    {
     "name": "stdout",
     "output_type": "stream",
     "text": [
      "-211.99999999999997\n",
      "[[ 0.13207547 -0.11320755  0.03773585]\n",
      " [-0.11320755  0.06132075  0.14622642]\n",
      " [ 0.13207547  0.13679245 -0.21226415]]\n",
      "[-3.29640804  4.74624875 13.55015929]\n"
     ]
    }
   ],
   "source": [
    "import math\n",
    "arr = np.random.randint(1, 10, (3,3))\n",
    "x= np.linalg.det(arr)\n",
    "inv = np.linalg.inv(arr)\n",
    "eig = np.linalg.eigvals(arr)\n",
    "print(x)\n",
    "print(inv)\n",
    "print(eig)"
   ]
  },
  {
   "cell_type": "code",
   "execution_count": 26,
   "id": "8067e219",
   "metadata": {},
   "outputs": [
    {
     "data": {
      "text/plain": [
       "array([[ 41,  28],\n",
       "       [129,  93]], dtype=int32)"
      ]
     },
     "execution_count": 26,
     "metadata": {},
     "output_type": "execute_result"
    }
   ],
   "source": [
    "arr = np.random.randint(1, 10, (2,3))\n",
    "arr1 = np.random.randint(1, 10, (3,2))\n",
    "\n",
    "res= np.linalg.matmul(arr, arr1)\n",
    "res"
   ]
  },
  {
   "cell_type": "code",
   "execution_count": 31,
   "id": "fbb2bc5e",
   "metadata": {},
   "outputs": [
    {
     "data": {
      "text/plain": [
       "array([[6],\n",
       "       [5],\n",
       "       [6],\n",
       "       [9],\n",
       "       [7],\n",
       "       [8],\n",
       "       [6],\n",
       "       [6],\n",
       "       [4]], dtype=int32)"
      ]
     },
     "execution_count": 31,
     "metadata": {},
     "output_type": "execute_result"
    }
   ],
   "source": [
    "arr = np.random.randint(1, 10, (3,3))\n",
    "arr1 = arr.reshape((1,9))\n",
    "#arr1\n",
    "arr2 = arr1.reshape(9,1)\n",
    "arr2"
   ]
  },
  {
   "cell_type": "code",
   "execution_count": 44,
   "id": "d7ca3e84",
   "metadata": {},
   "outputs": [
    {
     "name": "stdout",
     "output_type": "stream",
     "text": [
      "[[17 20 28 16 18]\n",
      " [32 22 14 24  2]\n",
      " [37 27 27 32 22]\n",
      " [15  3  7  2 20]\n",
      " [25  6 29  8 30]]\n"
     ]
    }
   ],
   "source": [
    "arr = np.random.randint(1, 40, (5,5))\n",
    "print(arr)\n",
    "#arr1 = arr.reshape(1, arr.size)\n",
    "#print(arr1)\n",
    "#arr = arr1.reshape(arr[0].size, arr[0].size)\n",
    "#print(arr)\n",
    "\n",
    "arr2 = arr.flatten()\n",
    "#arr2"
   ]
  },
  {
   "cell_type": "code",
   "execution_count": 54,
   "id": "155a71e5",
   "metadata": {},
   "outputs": [
    {
     "name": "stdout",
     "output_type": "stream",
     "text": [
      "[[20 20  2  5  8]\n",
      " [13 12 15  2  9]\n",
      " [13  6  4  7  4]\n",
      " [ 9  6  7 12 10]\n",
      " [ 8 17 18 16 13]]\n",
      "[20  8  8 13]\n"
     ]
    }
   ],
   "source": [
    "arr = np.random.randint(1, 21, size=(5, 5))\n",
    "print(arr)\n",
    "indexer = [[0, 0, -1,-1], [0, -1, 0 ,-1]]\n",
    "r= [0, 0, -1,-1]\n",
    "c= [0, -1, 0 ,-1]\n",
    "print(arr[r,c])"
   ]
  },
  {
   "cell_type": "code",
   "execution_count": 46,
   "id": "f713d3a1",
   "metadata": {},
   "outputs": [
    {
     "name": "stdout",
     "output_type": "stream",
     "text": [
      "[[19 18 12  7 12]\n",
      " [ 9 15  8 13 13]\n",
      " [ 5 11 19 10 19]\n",
      " [11  6  6 17 20]\n",
      " [13  3 18  1 16]]\n"
     ]
    },
    {
     "data": {
      "text/plain": [
       "array([[10, 10, 10,  7, 10],\n",
       "       [ 9, 10,  8, 10, 10],\n",
       "       [ 5, 10, 10, 10, 10],\n",
       "       [10,  6,  6, 10, 10],\n",
       "       [10,  3, 10,  1, 10]], dtype=int32)"
      ]
     },
     "execution_count": 46,
     "metadata": {},
     "output_type": "execute_result"
    }
   ],
   "source": [
    "arr = np.random.randint(1, 21, size=(5, 5))\n",
    "print(arr)\n",
    "arr[arr> 10]= 10\n",
    "arr"
   ]
  },
  {
   "cell_type": "code",
   "execution_count": 55,
   "id": "9186b885",
   "metadata": {},
   "outputs": [
    {
     "name": "stdout",
     "output_type": "stream",
     "text": [
      "Original array:\n",
      "[('Alice', 25, 55.5) ('Bob', 30, 85.3) ('Charlie', 20, 65.2)]\n",
      "Sorted array by age:\n",
      "[('Charlie', 20, 65.2) ('Alice', 25, 55.5) ('Bob', 30, 85.3)]\n"
     ]
    }
   ],
   "source": [
    "# Create a structured array with fields 'name', 'age', and 'weight'\n",
    "data_type = [('name', 'U10'), ('age', 'i4'), ('weight', 'f4')]\n",
    "data = np.array([('Alice', 25, 55.5), ('Bob', 30, 85.3), ('Charlie', 20, 65.2)], dtype=data_type)\n",
    "print(\"Original array:\")\n",
    "print(data)\n",
    "\n",
    "# Sort the array by age\n",
    "sorted_data = np.sort(data, order='age')\n",
    "print(\"Sorted array by age:\")\n",
    "print(sorted_data)\n",
    "\n"
   ]
  }
 ],
 "metadata": {
  "kernelspec": {
   "display_name": "venv",
   "language": "python",
   "name": "python3"
  },
  "language_info": {
   "codemirror_mode": {
    "name": "ipython",
    "version": 3
   },
   "file_extension": ".py",
   "mimetype": "text/x-python",
   "name": "python",
   "nbconvert_exporter": "python",
   "pygments_lexer": "ipython3",
   "version": "3.13.5"
  }
 },
 "nbformat": 4,
 "nbformat_minor": 5
}
